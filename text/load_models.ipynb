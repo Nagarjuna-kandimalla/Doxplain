{
 "cells": [
  {
   "cell_type": "code",
   "execution_count": 18,
   "id": "8ca1bb4e-7dd0-4379-8c1a-e65b8beedc46",
   "metadata": {},
   "outputs": [
    {
     "name": "stdout",
     "output_type": "stream",
     "text": [
      "Defaulting to user installation because normal site-packages is not writeable\n",
      "Requirement already satisfied: sentence_transformers in /home/dswdfb/.local/lib/python3.11/site-packages (5.1.1)\n",
      "Requirement already satisfied: transformers<5.0.0,>=4.41.0 in /home/dswdfb/.local/lib/python3.11/site-packages (from sentence_transformers) (4.56.2)\n",
      "Requirement already satisfied: tqdm in /home/dswdfb/.local/lib/python3.11/site-packages (from sentence_transformers) (4.67.1)\n",
      "Requirement already satisfied: torch>=1.11.0 in /home/dswdfb/.local/lib/python3.11/site-packages (from sentence_transformers) (2.8.0)\n",
      "Requirement already satisfied: scikit-learn in /home/dswdfb/.local/lib/python3.11/site-packages (from sentence_transformers) (1.7.2)\n",
      "Requirement already satisfied: scipy in /home/dswdfb/.local/lib/python3.11/site-packages (from sentence_transformers) (1.16.2)\n",
      "Requirement already satisfied: huggingface-hub>=0.20.0 in /home/dswdfb/.local/lib/python3.11/site-packages (from sentence_transformers) (0.35.1)\n",
      "Requirement already satisfied: Pillow in /home/dswdfb/.local/lib/python3.11/site-packages (from sentence_transformers) (11.3.0)\n",
      "Requirement already satisfied: typing_extensions>=4.5.0 in /home/dswdfb/.local/lib/python3.11/site-packages (from sentence_transformers) (4.15.0)\n",
      "Requirement already satisfied: filelock in /home/dswdfb/.local/lib/python3.11/site-packages (from huggingface-hub>=0.20.0->sentence_transformers) (3.19.1)\n",
      "Requirement already satisfied: fsspec>=2023.5.0 in /home/dswdfb/.local/lib/python3.11/site-packages (from huggingface-hub>=0.20.0->sentence_transformers) (2024.12.0)\n",
      "Requirement already satisfied: packaging>=20.9 in /home/dswdfb/.local/lib/python3.11/site-packages (from huggingface-hub>=0.20.0->sentence_transformers) (24.2)\n",
      "Requirement already satisfied: pyyaml>=5.1 in /cluster/software/conda-envs-global/jupyter/envs/jupytern_706/lib/python3.11/site-packages (from huggingface-hub>=0.20.0->sentence_transformers) (6.0.1)\n",
      "Requirement already satisfied: requests in /home/dswdfb/.local/lib/python3.11/site-packages (from huggingface-hub>=0.20.0->sentence_transformers) (2.32.3)\n",
      "Requirement already satisfied: hf-xet<2.0.0,>=1.1.3 in /home/dswdfb/.local/lib/python3.11/site-packages (from huggingface-hub>=0.20.0->sentence_transformers) (1.1.10)\n",
      "Requirement already satisfied: sympy>=1.13.3 in /home/dswdfb/.local/lib/python3.11/site-packages (from torch>=1.11.0->sentence_transformers) (1.14.0)\n",
      "Requirement already satisfied: networkx in /home/dswdfb/.local/lib/python3.11/site-packages (from torch>=1.11.0->sentence_transformers) (3.5)\n",
      "Requirement already satisfied: jinja2 in /home/dswdfb/.local/lib/python3.11/site-packages (from torch>=1.11.0->sentence_transformers) (3.1.6)\n",
      "Requirement already satisfied: nvidia-cuda-nvrtc-cu12==12.8.93 in /home/dswdfb/.local/lib/python3.11/site-packages (from torch>=1.11.0->sentence_transformers) (12.8.93)\n",
      "Requirement already satisfied: nvidia-cuda-runtime-cu12==12.8.90 in /home/dswdfb/.local/lib/python3.11/site-packages (from torch>=1.11.0->sentence_transformers) (12.8.90)\n",
      "Requirement already satisfied: nvidia-cuda-cupti-cu12==12.8.90 in /home/dswdfb/.local/lib/python3.11/site-packages (from torch>=1.11.0->sentence_transformers) (12.8.90)\n",
      "Requirement already satisfied: nvidia-cudnn-cu12==9.10.2.21 in /home/dswdfb/.local/lib/python3.11/site-packages (from torch>=1.11.0->sentence_transformers) (9.10.2.21)\n",
      "Requirement already satisfied: nvidia-cublas-cu12==12.8.4.1 in /home/dswdfb/.local/lib/python3.11/site-packages (from torch>=1.11.0->sentence_transformers) (12.8.4.1)\n",
      "Requirement already satisfied: nvidia-cufft-cu12==11.3.3.83 in /home/dswdfb/.local/lib/python3.11/site-packages (from torch>=1.11.0->sentence_transformers) (11.3.3.83)\n",
      "Requirement already satisfied: nvidia-curand-cu12==10.3.9.90 in /home/dswdfb/.local/lib/python3.11/site-packages (from torch>=1.11.0->sentence_transformers) (10.3.9.90)\n",
      "Requirement already satisfied: nvidia-cusolver-cu12==11.7.3.90 in /home/dswdfb/.local/lib/python3.11/site-packages (from torch>=1.11.0->sentence_transformers) (11.7.3.90)\n",
      "Requirement already satisfied: nvidia-cusparse-cu12==12.5.8.93 in /home/dswdfb/.local/lib/python3.11/site-packages (from torch>=1.11.0->sentence_transformers) (12.5.8.93)\n",
      "Requirement already satisfied: nvidia-cusparselt-cu12==0.7.1 in /home/dswdfb/.local/lib/python3.11/site-packages (from torch>=1.11.0->sentence_transformers) (0.7.1)\n",
      "Requirement already satisfied: nvidia-nccl-cu12==2.27.3 in /home/dswdfb/.local/lib/python3.11/site-packages (from torch>=1.11.0->sentence_transformers) (2.27.3)\n",
      "Requirement already satisfied: nvidia-nvtx-cu12==12.8.90 in /home/dswdfb/.local/lib/python3.11/site-packages (from torch>=1.11.0->sentence_transformers) (12.8.90)\n",
      "Requirement already satisfied: nvidia-nvjitlink-cu12==12.8.93 in /home/dswdfb/.local/lib/python3.11/site-packages (from torch>=1.11.0->sentence_transformers) (12.8.93)\n",
      "Requirement already satisfied: nvidia-cufile-cu12==1.13.1.3 in /home/dswdfb/.local/lib/python3.11/site-packages (from torch>=1.11.0->sentence_transformers) (1.13.1.3)\n",
      "Requirement already satisfied: triton==3.4.0 in /home/dswdfb/.local/lib/python3.11/site-packages (from torch>=1.11.0->sentence_transformers) (3.4.0)\n",
      "Requirement already satisfied: setuptools>=40.8.0 in /home/dswdfb/.local/lib/python3.11/site-packages (from triton==3.4.0->torch>=1.11.0->sentence_transformers) (80.9.0)\n",
      "Requirement already satisfied: numpy>=1.17 in /home/dswdfb/.local/lib/python3.11/site-packages (from transformers<5.0.0,>=4.41.0->sentence_transformers) (2.3.3)\n",
      "Requirement already satisfied: regex!=2019.12.17 in /home/dswdfb/.local/lib/python3.11/site-packages (from transformers<5.0.0,>=4.41.0->sentence_transformers) (2024.11.6)\n",
      "Requirement already satisfied: tokenizers<=0.23.0,>=0.22.0 in /home/dswdfb/.local/lib/python3.11/site-packages (from transformers<5.0.0,>=4.41.0->sentence_transformers) (0.22.1)\n",
      "Requirement already satisfied: safetensors>=0.4.3 in /home/dswdfb/.local/lib/python3.11/site-packages (from transformers<5.0.0,>=4.41.0->sentence_transformers) (0.5.2)\n",
      "Requirement already satisfied: joblib>=1.2.0 in /home/dswdfb/.local/lib/python3.11/site-packages (from scikit-learn->sentence_transformers) (1.5.2)\n",
      "Requirement already satisfied: threadpoolctl>=3.1.0 in /home/dswdfb/.local/lib/python3.11/site-packages (from scikit-learn->sentence_transformers) (3.6.0)\n",
      "Requirement already satisfied: mpmath<1.4,>=1.1.0 in /home/dswdfb/.local/lib/python3.11/site-packages (from sympy>=1.13.3->torch>=1.11.0->sentence_transformers) (1.3.0)\n",
      "Requirement already satisfied: MarkupSafe>=2.0 in /home/dswdfb/.local/lib/python3.11/site-packages (from jinja2->torch>=1.11.0->sentence_transformers) (3.0.2)\n",
      "Requirement already satisfied: charset-normalizer<4,>=2 in /cluster/software/conda-envs-global/jupyter/envs/jupytern_706/lib/python3.11/site-packages (from requests->huggingface-hub>=0.20.0->sentence_transformers) (2.0.4)\n",
      "Requirement already satisfied: idna<4,>=2.5 in /cluster/software/conda-envs-global/jupyter/envs/jupytern_706/lib/python3.11/site-packages (from requests->huggingface-hub>=0.20.0->sentence_transformers) (3.4)\n",
      "Requirement already satisfied: urllib3<3,>=1.21.1 in /cluster/software/conda-envs-global/jupyter/envs/jupytern_706/lib/python3.11/site-packages (from requests->huggingface-hub>=0.20.0->sentence_transformers) (1.26.18)\n",
      "Requirement already satisfied: certifi>=2017.4.17 in /cluster/software/conda-envs-global/jupyter/envs/jupytern_706/lib/python3.11/site-packages (from requests->huggingface-hub>=0.20.0->sentence_transformers) (2023.11.17)\n",
      "Note: you may need to restart the kernel to use updated packages.\n"
     ]
    }
   ],
   "source": [
    "pip install sentence_transformers"
   ]
  },
  {
   "cell_type": "code",
   "execution_count": 19,
   "id": "e3bee420-26ac-4529-9c68-814dd5425db0",
   "metadata": {},
   "outputs": [
    {
     "name": "stdout",
     "output_type": "stream",
     "text": [
      "Defaulting to user installation because normal site-packages is not writeable\n",
      "Requirement already satisfied: langchain in /home/dswdfb/.local/lib/python3.11/site-packages (0.3.18)\n",
      "Requirement already satisfied: langchain-core<1.0.0,>=0.3.34 in /home/dswdfb/.local/lib/python3.11/site-packages (from langchain) (0.3.76)\n",
      "Requirement already satisfied: langchain-text-splitters<1.0.0,>=0.3.6 in /home/dswdfb/.local/lib/python3.11/site-packages (from langchain) (0.3.6)\n",
      "Requirement already satisfied: langsmith<0.4,>=0.1.17 in /home/dswdfb/.local/lib/python3.11/site-packages (from langchain) (0.3.45)\n",
      "Requirement already satisfied: pydantic<3.0.0,>=2.7.4 in /home/dswdfb/.local/lib/python3.11/site-packages (from langchain) (2.10.6)\n",
      "Requirement already satisfied: SQLAlchemy<3,>=1.4 in /home/dswdfb/.local/lib/python3.11/site-packages (from langchain) (2.0.38)\n",
      "Requirement already satisfied: requests<3,>=2 in /home/dswdfb/.local/lib/python3.11/site-packages (from langchain) (2.32.3)\n",
      "Requirement already satisfied: PyYAML>=5.3 in /cluster/software/conda-envs-global/jupyter/envs/jupytern_706/lib/python3.11/site-packages (from langchain) (6.0.1)\n",
      "Requirement already satisfied: aiohttp<4.0.0,>=3.8.3 in /home/dswdfb/.local/lib/python3.11/site-packages (from langchain) (3.11.12)\n",
      "Requirement already satisfied: tenacity!=8.4.0,<10,>=8.1.0 in /home/dswdfb/.local/lib/python3.11/site-packages (from langchain) (9.0.0)\n",
      "Collecting numpy<2,>=1.26.4 (from langchain)\n",
      "  Using cached numpy-1.26.4-cp311-cp311-manylinux_2_17_x86_64.manylinux2014_x86_64.whl.metadata (61 kB)\n",
      "Requirement already satisfied: aiohappyeyeballs>=2.3.0 in /home/dswdfb/.local/lib/python3.11/site-packages (from aiohttp<4.0.0,>=3.8.3->langchain) (2.4.6)\n",
      "Requirement already satisfied: aiosignal>=1.1.2 in /home/dswdfb/.local/lib/python3.11/site-packages (from aiohttp<4.0.0,>=3.8.3->langchain) (1.3.2)\n",
      "Requirement already satisfied: attrs>=17.3.0 in /cluster/software/conda-envs-global/jupyter/envs/jupytern_706/lib/python3.11/site-packages (from aiohttp<4.0.0,>=3.8.3->langchain) (23.1.0)\n",
      "Requirement already satisfied: frozenlist>=1.1.1 in /home/dswdfb/.local/lib/python3.11/site-packages (from aiohttp<4.0.0,>=3.8.3->langchain) (1.5.0)\n",
      "Requirement already satisfied: multidict<7.0,>=4.5 in /home/dswdfb/.local/lib/python3.11/site-packages (from aiohttp<4.0.0,>=3.8.3->langchain) (6.1.0)\n",
      "Requirement already satisfied: propcache>=0.2.0 in /home/dswdfb/.local/lib/python3.11/site-packages (from aiohttp<4.0.0,>=3.8.3->langchain) (0.2.1)\n",
      "Requirement already satisfied: yarl<2.0,>=1.17.0 in /home/dswdfb/.local/lib/python3.11/site-packages (from aiohttp<4.0.0,>=3.8.3->langchain) (1.18.3)\n",
      "Requirement already satisfied: jsonpatch<2.0,>=1.33 in /home/dswdfb/.local/lib/python3.11/site-packages (from langchain-core<1.0.0,>=0.3.34->langchain) (1.33)\n",
      "Requirement already satisfied: typing-extensions>=4.7 in /home/dswdfb/.local/lib/python3.11/site-packages (from langchain-core<1.0.0,>=0.3.34->langchain) (4.15.0)\n",
      "Requirement already satisfied: packaging>=23.2 in /home/dswdfb/.local/lib/python3.11/site-packages (from langchain-core<1.0.0,>=0.3.34->langchain) (24.2)\n",
      "Requirement already satisfied: httpx<1,>=0.23.0 in /home/dswdfb/.local/lib/python3.11/site-packages (from langsmith<0.4,>=0.1.17->langchain) (0.28.1)\n",
      "Requirement already satisfied: orjson<4.0.0,>=3.9.14 in /home/dswdfb/.local/lib/python3.11/site-packages (from langsmith<0.4,>=0.1.17->langchain) (3.10.15)\n",
      "Requirement already satisfied: requests-toolbelt<2.0.0,>=1.0.0 in /home/dswdfb/.local/lib/python3.11/site-packages (from langsmith<0.4,>=0.1.17->langchain) (1.0.0)\n",
      "Requirement already satisfied: zstandard<0.24.0,>=0.23.0 in /home/dswdfb/.local/lib/python3.11/site-packages (from langsmith<0.4,>=0.1.17->langchain) (0.23.0)\n",
      "Requirement already satisfied: annotated-types>=0.6.0 in /home/dswdfb/.local/lib/python3.11/site-packages (from pydantic<3.0.0,>=2.7.4->langchain) (0.7.0)\n",
      "Requirement already satisfied: pydantic-core==2.27.2 in /home/dswdfb/.local/lib/python3.11/site-packages (from pydantic<3.0.0,>=2.7.4->langchain) (2.27.2)\n",
      "Requirement already satisfied: charset-normalizer<4,>=2 in /cluster/software/conda-envs-global/jupyter/envs/jupytern_706/lib/python3.11/site-packages (from requests<3,>=2->langchain) (2.0.4)\n",
      "Requirement already satisfied: idna<4,>=2.5 in /cluster/software/conda-envs-global/jupyter/envs/jupytern_706/lib/python3.11/site-packages (from requests<3,>=2->langchain) (3.4)\n",
      "Requirement already satisfied: urllib3<3,>=1.21.1 in /cluster/software/conda-envs-global/jupyter/envs/jupytern_706/lib/python3.11/site-packages (from requests<3,>=2->langchain) (1.26.18)\n",
      "Requirement already satisfied: certifi>=2017.4.17 in /cluster/software/conda-envs-global/jupyter/envs/jupytern_706/lib/python3.11/site-packages (from requests<3,>=2->langchain) (2023.11.17)\n",
      "Requirement already satisfied: greenlet!=0.4.17 in /home/dswdfb/.local/lib/python3.11/site-packages (from SQLAlchemy<3,>=1.4->langchain) (3.1.1)\n",
      "Requirement already satisfied: anyio in /home/dswdfb/.local/lib/python3.11/site-packages (from httpx<1,>=0.23.0->langsmith<0.4,>=0.1.17->langchain) (4.8.0)\n",
      "Requirement already satisfied: httpcore==1.* in /home/dswdfb/.local/lib/python3.11/site-packages (from httpx<1,>=0.23.0->langsmith<0.4,>=0.1.17->langchain) (1.0.7)\n",
      "Requirement already satisfied: h11<0.15,>=0.13 in /home/dswdfb/.local/lib/python3.11/site-packages (from httpcore==1.*->httpx<1,>=0.23.0->langsmith<0.4,>=0.1.17->langchain) (0.14.0)\n",
      "Requirement already satisfied: jsonpointer>=1.9 in /home/dswdfb/.local/lib/python3.11/site-packages (from jsonpatch<2.0,>=1.33->langchain-core<1.0.0,>=0.3.34->langchain) (3.0.0)\n",
      "Requirement already satisfied: sniffio>=1.1 in /cluster/software/conda-envs-global/jupyter/envs/jupytern_706/lib/python3.11/site-packages (from anyio->httpx<1,>=0.23.0->langsmith<0.4,>=0.1.17->langchain) (1.2.0)\n",
      "Using cached numpy-1.26.4-cp311-cp311-manylinux_2_17_x86_64.manylinux2014_x86_64.whl (18.3 MB)\n",
      "Installing collected packages: numpy\n",
      "  Attempting uninstall: numpy\n",
      "    Found existing installation: numpy 2.3.3\n",
      "    Uninstalling numpy-2.3.3:\n",
      "      Successfully uninstalled numpy-2.3.3\n",
      "\u001b[31mERROR: pip's dependency resolver does not currently take into account all the packages that are installed. This behaviour is the source of the following dependency conflicts.\n",
      "gensim 4.3.3 requires scipy<1.14.0,>=1.7.0, but you have scipy 1.16.2 which is incompatible.\n",
      "tensorflow 2.18.0 requires tensorboard<2.19,>=2.18, but you have tensorboard 2.20.0 which is incompatible.\n",
      "fuzzy-c-means 1.7.2 requires typer<0.10.0,>=0.9.0, but you have typer 0.19.2 which is incompatible.\n",
      "en-core-sci-md 0.5.0 requires spacy<3.3.0,>=3.2.3, but you have spacy 3.8.4 which is incompatible.\u001b[0m\u001b[31m\n",
      "\u001b[0mSuccessfully installed numpy-1.26.4\n",
      "Note: you may need to restart the kernel to use updated packages.\n"
     ]
    }
   ],
   "source": [
    "pip install langchain"
   ]
  },
  {
   "cell_type": "code",
   "execution_count": 20,
   "id": "84daeb77-eb46-4eb9-a73b-a241126ea72b",
   "metadata": {},
   "outputs": [
    {
     "name": "stdout",
     "output_type": "stream",
     "text": [
      "Defaulting to user installation because normal site-packages is not writeable\n",
      "Requirement already satisfied: langchain_huggingface in /home/dswdfb/.local/lib/python3.11/site-packages (0.3.1)\n",
      "Requirement already satisfied: langchain-core<1.0.0,>=0.3.70 in /home/dswdfb/.local/lib/python3.11/site-packages (from langchain_huggingface) (0.3.76)\n",
      "Requirement already satisfied: tokenizers>=0.19.1 in /home/dswdfb/.local/lib/python3.11/site-packages (from langchain_huggingface) (0.22.1)\n",
      "Requirement already satisfied: huggingface-hub>=0.33.4 in /home/dswdfb/.local/lib/python3.11/site-packages (from langchain_huggingface) (0.35.1)\n",
      "Requirement already satisfied: filelock in /home/dswdfb/.local/lib/python3.11/site-packages (from huggingface-hub>=0.33.4->langchain_huggingface) (3.19.1)\n",
      "Requirement already satisfied: fsspec>=2023.5.0 in /home/dswdfb/.local/lib/python3.11/site-packages (from huggingface-hub>=0.33.4->langchain_huggingface) (2024.12.0)\n",
      "Requirement already satisfied: packaging>=20.9 in /home/dswdfb/.local/lib/python3.11/site-packages (from huggingface-hub>=0.33.4->langchain_huggingface) (24.2)\n",
      "Requirement already satisfied: pyyaml>=5.1 in /cluster/software/conda-envs-global/jupyter/envs/jupytern_706/lib/python3.11/site-packages (from huggingface-hub>=0.33.4->langchain_huggingface) (6.0.1)\n",
      "Requirement already satisfied: requests in /home/dswdfb/.local/lib/python3.11/site-packages (from huggingface-hub>=0.33.4->langchain_huggingface) (2.32.3)\n",
      "Requirement already satisfied: tqdm>=4.42.1 in /home/dswdfb/.local/lib/python3.11/site-packages (from huggingface-hub>=0.33.4->langchain_huggingface) (4.67.1)\n",
      "Requirement already satisfied: typing-extensions>=3.7.4.3 in /home/dswdfb/.local/lib/python3.11/site-packages (from huggingface-hub>=0.33.4->langchain_huggingface) (4.15.0)\n",
      "Requirement already satisfied: hf-xet<2.0.0,>=1.1.3 in /home/dswdfb/.local/lib/python3.11/site-packages (from huggingface-hub>=0.33.4->langchain_huggingface) (1.1.10)\n",
      "Requirement already satisfied: langsmith>=0.3.45 in /home/dswdfb/.local/lib/python3.11/site-packages (from langchain-core<1.0.0,>=0.3.70->langchain_huggingface) (0.3.45)\n",
      "Requirement already satisfied: tenacity!=8.4.0,<10.0.0,>=8.1.0 in /home/dswdfb/.local/lib/python3.11/site-packages (from langchain-core<1.0.0,>=0.3.70->langchain_huggingface) (9.0.0)\n",
      "Requirement already satisfied: jsonpatch<2.0,>=1.33 in /home/dswdfb/.local/lib/python3.11/site-packages (from langchain-core<1.0.0,>=0.3.70->langchain_huggingface) (1.33)\n",
      "Requirement already satisfied: pydantic>=2.7.4 in /home/dswdfb/.local/lib/python3.11/site-packages (from langchain-core<1.0.0,>=0.3.70->langchain_huggingface) (2.10.6)\n",
      "Requirement already satisfied: jsonpointer>=1.9 in /home/dswdfb/.local/lib/python3.11/site-packages (from jsonpatch<2.0,>=1.33->langchain-core<1.0.0,>=0.3.70->langchain_huggingface) (3.0.0)\n",
      "Requirement already satisfied: httpx<1,>=0.23.0 in /home/dswdfb/.local/lib/python3.11/site-packages (from langsmith>=0.3.45->langchain-core<1.0.0,>=0.3.70->langchain_huggingface) (0.28.1)\n",
      "Requirement already satisfied: orjson<4.0.0,>=3.9.14 in /home/dswdfb/.local/lib/python3.11/site-packages (from langsmith>=0.3.45->langchain-core<1.0.0,>=0.3.70->langchain_huggingface) (3.10.15)\n",
      "Requirement already satisfied: requests-toolbelt<2.0.0,>=1.0.0 in /home/dswdfb/.local/lib/python3.11/site-packages (from langsmith>=0.3.45->langchain-core<1.0.0,>=0.3.70->langchain_huggingface) (1.0.0)\n",
      "Requirement already satisfied: zstandard<0.24.0,>=0.23.0 in /home/dswdfb/.local/lib/python3.11/site-packages (from langsmith>=0.3.45->langchain-core<1.0.0,>=0.3.70->langchain_huggingface) (0.23.0)\n",
      "Requirement already satisfied: annotated-types>=0.6.0 in /home/dswdfb/.local/lib/python3.11/site-packages (from pydantic>=2.7.4->langchain-core<1.0.0,>=0.3.70->langchain_huggingface) (0.7.0)\n",
      "Requirement already satisfied: pydantic-core==2.27.2 in /home/dswdfb/.local/lib/python3.11/site-packages (from pydantic>=2.7.4->langchain-core<1.0.0,>=0.3.70->langchain_huggingface) (2.27.2)\n",
      "Requirement already satisfied: charset-normalizer<4,>=2 in /cluster/software/conda-envs-global/jupyter/envs/jupytern_706/lib/python3.11/site-packages (from requests->huggingface-hub>=0.33.4->langchain_huggingface) (2.0.4)\n",
      "Requirement already satisfied: idna<4,>=2.5 in /cluster/software/conda-envs-global/jupyter/envs/jupytern_706/lib/python3.11/site-packages (from requests->huggingface-hub>=0.33.4->langchain_huggingface) (3.4)\n",
      "Requirement already satisfied: urllib3<3,>=1.21.1 in /cluster/software/conda-envs-global/jupyter/envs/jupytern_706/lib/python3.11/site-packages (from requests->huggingface-hub>=0.33.4->langchain_huggingface) (1.26.18)\n",
      "Requirement already satisfied: certifi>=2017.4.17 in /cluster/software/conda-envs-global/jupyter/envs/jupytern_706/lib/python3.11/site-packages (from requests->huggingface-hub>=0.33.4->langchain_huggingface) (2023.11.17)\n",
      "Requirement already satisfied: anyio in /home/dswdfb/.local/lib/python3.11/site-packages (from httpx<1,>=0.23.0->langsmith>=0.3.45->langchain-core<1.0.0,>=0.3.70->langchain_huggingface) (4.8.0)\n",
      "Requirement already satisfied: httpcore==1.* in /home/dswdfb/.local/lib/python3.11/site-packages (from httpx<1,>=0.23.0->langsmith>=0.3.45->langchain-core<1.0.0,>=0.3.70->langchain_huggingface) (1.0.7)\n",
      "Requirement already satisfied: h11<0.15,>=0.13 in /home/dswdfb/.local/lib/python3.11/site-packages (from httpcore==1.*->httpx<1,>=0.23.0->langsmith>=0.3.45->langchain-core<1.0.0,>=0.3.70->langchain_huggingface) (0.14.0)\n",
      "Requirement already satisfied: sniffio>=1.1 in /cluster/software/conda-envs-global/jupyter/envs/jupytern_706/lib/python3.11/site-packages (from anyio->httpx<1,>=0.23.0->langsmith>=0.3.45->langchain-core<1.0.0,>=0.3.70->langchain_huggingface) (1.2.0)\n",
      "Note: you may need to restart the kernel to use updated packages.\n"
     ]
    }
   ],
   "source": [
    "pip install langchain_huggingface"
   ]
  },
  {
   "cell_type": "code",
   "execution_count": 21,
   "id": "26b13b40-0120-44bf-b7d1-a36c38eee570",
   "metadata": {},
   "outputs": [
    {
     "name": "stdout",
     "output_type": "stream",
     "text": [
      "Defaulting to user installation because normal site-packages is not writeable\n",
      "Requirement already satisfied: chromadb in /home/dswdfb/.local/lib/python3.11/site-packages (1.1.0)\n",
      "Requirement already satisfied: build>=1.0.3 in /home/dswdfb/.local/lib/python3.11/site-packages (from chromadb) (1.2.2.post1)\n",
      "Requirement already satisfied: pydantic>=1.9 in /home/dswdfb/.local/lib/python3.11/site-packages (from chromadb) (2.10.6)\n",
      "Requirement already satisfied: pybase64>=1.4.1 in /home/dswdfb/.local/lib/python3.11/site-packages (from chromadb) (1.4.2)\n",
      "Requirement already satisfied: uvicorn>=0.18.3 in /home/dswdfb/.local/lib/python3.11/site-packages (from uvicorn[standard]>=0.18.3->chromadb) (0.34.0)\n",
      "Requirement already satisfied: numpy>=1.22.5 in /home/dswdfb/.local/lib/python3.11/site-packages (from chromadb) (1.26.4)\n",
      "Requirement already satisfied: posthog<6.0.0,>=2.4.0 in /home/dswdfb/.local/lib/python3.11/site-packages (from chromadb) (3.13.0)\n",
      "Requirement already satisfied: typing-extensions>=4.5.0 in /home/dswdfb/.local/lib/python3.11/site-packages (from chromadb) (4.15.0)\n",
      "Requirement already satisfied: onnxruntime>=1.14.1 in /home/dswdfb/.local/lib/python3.11/site-packages (from chromadb) (1.20.1)\n",
      "Requirement already satisfied: opentelemetry-api>=1.2.0 in /home/dswdfb/.local/lib/python3.11/site-packages (from chromadb) (1.30.0)\n",
      "Requirement already satisfied: opentelemetry-exporter-otlp-proto-grpc>=1.2.0 in /home/dswdfb/.local/lib/python3.11/site-packages (from chromadb) (1.30.0)\n",
      "Requirement already satisfied: opentelemetry-sdk>=1.2.0 in /home/dswdfb/.local/lib/python3.11/site-packages (from chromadb) (1.30.0)\n",
      "Requirement already satisfied: tokenizers>=0.13.2 in /home/dswdfb/.local/lib/python3.11/site-packages (from chromadb) (0.22.1)\n",
      "Requirement already satisfied: pypika>=0.48.9 in /home/dswdfb/.local/lib/python3.11/site-packages (from chromadb) (0.48.9)\n",
      "Requirement already satisfied: tqdm>=4.65.0 in /home/dswdfb/.local/lib/python3.11/site-packages (from chromadb) (4.67.1)\n",
      "Requirement already satisfied: overrides>=7.3.1 in /cluster/software/conda-envs-global/jupyter/envs/jupytern_706/lib/python3.11/site-packages (from chromadb) (7.4.0)\n",
      "Requirement already satisfied: importlib-resources in /home/dswdfb/.local/lib/python3.11/site-packages (from chromadb) (6.5.2)\n",
      "Requirement already satisfied: grpcio>=1.58.0 in /home/dswdfb/.local/lib/python3.11/site-packages (from chromadb) (1.75.0)\n",
      "Requirement already satisfied: bcrypt>=4.0.1 in /home/dswdfb/.local/lib/python3.11/site-packages (from chromadb) (4.2.1)\n",
      "Requirement already satisfied: typer>=0.9.0 in /home/dswdfb/.local/lib/python3.11/site-packages (from chromadb) (0.19.2)\n",
      "Requirement already satisfied: kubernetes>=28.1.0 in /home/dswdfb/.local/lib/python3.11/site-packages (from chromadb) (32.0.0)\n",
      "Requirement already satisfied: tenacity>=8.2.3 in /home/dswdfb/.local/lib/python3.11/site-packages (from chromadb) (9.0.0)\n",
      "Requirement already satisfied: pyyaml>=6.0.0 in /cluster/software/conda-envs-global/jupyter/envs/jupytern_706/lib/python3.11/site-packages (from chromadb) (6.0.1)\n",
      "Requirement already satisfied: mmh3>=4.0.1 in /home/dswdfb/.local/lib/python3.11/site-packages (from chromadb) (5.1.0)\n",
      "Requirement already satisfied: orjson>=3.9.12 in /home/dswdfb/.local/lib/python3.11/site-packages (from chromadb) (3.10.15)\n",
      "Requirement already satisfied: httpx>=0.27.0 in /home/dswdfb/.local/lib/python3.11/site-packages (from chromadb) (0.28.1)\n",
      "Requirement already satisfied: rich>=10.11.0 in /home/dswdfb/.local/lib/python3.11/site-packages (from chromadb) (13.9.4)\n",
      "Requirement already satisfied: jsonschema>=4.19.0 in /cluster/software/conda-envs-global/jupyter/envs/jupytern_706/lib/python3.11/site-packages (from chromadb) (4.19.2)\n",
      "Requirement already satisfied: packaging>=19.1 in /home/dswdfb/.local/lib/python3.11/site-packages (from build>=1.0.3->chromadb) (24.2)\n",
      "Requirement already satisfied: pyproject_hooks in /home/dswdfb/.local/lib/python3.11/site-packages (from build>=1.0.3->chromadb) (1.2.0)\n",
      "Requirement already satisfied: anyio in /home/dswdfb/.local/lib/python3.11/site-packages (from httpx>=0.27.0->chromadb) (4.8.0)\n",
      "Requirement already satisfied: certifi in /cluster/software/conda-envs-global/jupyter/envs/jupytern_706/lib/python3.11/site-packages (from httpx>=0.27.0->chromadb) (2023.11.17)\n",
      "Requirement already satisfied: httpcore==1.* in /home/dswdfb/.local/lib/python3.11/site-packages (from httpx>=0.27.0->chromadb) (1.0.7)\n",
      "Requirement already satisfied: idna in /cluster/software/conda-envs-global/jupyter/envs/jupytern_706/lib/python3.11/site-packages (from httpx>=0.27.0->chromadb) (3.4)\n",
      "Requirement already satisfied: h11<0.15,>=0.13 in /home/dswdfb/.local/lib/python3.11/site-packages (from httpcore==1.*->httpx>=0.27.0->chromadb) (0.14.0)\n",
      "Requirement already satisfied: attrs>=22.2.0 in /cluster/software/conda-envs-global/jupyter/envs/jupytern_706/lib/python3.11/site-packages (from jsonschema>=4.19.0->chromadb) (23.1.0)\n",
      "Requirement already satisfied: jsonschema-specifications>=2023.03.6 in /cluster/software/conda-envs-global/jupyter/envs/jupytern_706/lib/python3.11/site-packages (from jsonschema>=4.19.0->chromadb) (2023.7.1)\n",
      "Requirement already satisfied: referencing>=0.28.4 in /cluster/software/conda-envs-global/jupyter/envs/jupytern_706/lib/python3.11/site-packages (from jsonschema>=4.19.0->chromadb) (0.30.2)\n",
      "Requirement already satisfied: rpds-py>=0.7.1 in /cluster/software/conda-envs-global/jupyter/envs/jupytern_706/lib/python3.11/site-packages (from jsonschema>=4.19.0->chromadb) (0.10.6)\n",
      "Requirement already satisfied: six>=1.9.0 in /home/dswdfb/.local/lib/python3.11/site-packages (from kubernetes>=28.1.0->chromadb) (1.17.0)\n",
      "Requirement already satisfied: python-dateutil>=2.5.3 in /home/dswdfb/.local/lib/python3.11/site-packages (from kubernetes>=28.1.0->chromadb) (2.9.0.post0)\n",
      "Requirement already satisfied: google-auth>=1.0.1 in /home/dswdfb/.local/lib/python3.11/site-packages (from kubernetes>=28.1.0->chromadb) (2.38.0)\n",
      "Requirement already satisfied: websocket-client!=0.40.0,!=0.41.*,!=0.42.*,>=0.32.0 in /cluster/software/conda-envs-global/jupyter/envs/jupytern_706/lib/python3.11/site-packages (from kubernetes>=28.1.0->chromadb) (0.58.0)\n",
      "Requirement already satisfied: requests in /home/dswdfb/.local/lib/python3.11/site-packages (from kubernetes>=28.1.0->chromadb) (2.32.3)\n",
      "Requirement already satisfied: requests-oauthlib in /home/dswdfb/.local/lib/python3.11/site-packages (from kubernetes>=28.1.0->chromadb) (2.0.0)\n",
      "Requirement already satisfied: oauthlib>=3.2.2 in /home/dswdfb/.local/lib/python3.11/site-packages (from kubernetes>=28.1.0->chromadb) (3.2.2)\n",
      "Requirement already satisfied: urllib3>=1.24.2 in /cluster/software/conda-envs-global/jupyter/envs/jupytern_706/lib/python3.11/site-packages (from kubernetes>=28.1.0->chromadb) (1.26.18)\n",
      "Requirement already satisfied: durationpy>=0.7 in /home/dswdfb/.local/lib/python3.11/site-packages (from kubernetes>=28.1.0->chromadb) (0.9)\n",
      "Requirement already satisfied: coloredlogs in /home/dswdfb/.local/lib/python3.11/site-packages (from onnxruntime>=1.14.1->chromadb) (15.0.1)\n",
      "Requirement already satisfied: flatbuffers in /home/dswdfb/.local/lib/python3.11/site-packages (from onnxruntime>=1.14.1->chromadb) (25.1.24)\n",
      "Requirement already satisfied: protobuf in /home/dswdfb/.local/lib/python3.11/site-packages (from onnxruntime>=1.14.1->chromadb) (5.29.5)\n",
      "Requirement already satisfied: sympy in /home/dswdfb/.local/lib/python3.11/site-packages (from onnxruntime>=1.14.1->chromadb) (1.14.0)\n",
      "Requirement already satisfied: deprecated>=1.2.6 in /home/dswdfb/.local/lib/python3.11/site-packages (from opentelemetry-api>=1.2.0->chromadb) (1.2.18)\n",
      "Requirement already satisfied: importlib-metadata<=8.5.0,>=6.0 in /home/dswdfb/.local/lib/python3.11/site-packages (from opentelemetry-api>=1.2.0->chromadb) (8.5.0)\n",
      "Requirement already satisfied: googleapis-common-protos~=1.52 in /home/dswdfb/.local/lib/python3.11/site-packages (from opentelemetry-exporter-otlp-proto-grpc>=1.2.0->chromadb) (1.67.0)\n",
      "Requirement already satisfied: opentelemetry-exporter-otlp-proto-common==1.30.0 in /home/dswdfb/.local/lib/python3.11/site-packages (from opentelemetry-exporter-otlp-proto-grpc>=1.2.0->chromadb) (1.30.0)\n",
      "Requirement already satisfied: opentelemetry-proto==1.30.0 in /home/dswdfb/.local/lib/python3.11/site-packages (from opentelemetry-exporter-otlp-proto-grpc>=1.2.0->chromadb) (1.30.0)\n",
      "Requirement already satisfied: opentelemetry-semantic-conventions==0.51b0 in /home/dswdfb/.local/lib/python3.11/site-packages (from opentelemetry-sdk>=1.2.0->chromadb) (0.51b0)\n",
      "Requirement already satisfied: monotonic>=1.5 in /home/dswdfb/.local/lib/python3.11/site-packages (from posthog<6.0.0,>=2.4.0->chromadb) (1.6)\n",
      "Requirement already satisfied: backoff>=1.10.0 in /home/dswdfb/.local/lib/python3.11/site-packages (from posthog<6.0.0,>=2.4.0->chromadb) (2.2.1)\n",
      "Requirement already satisfied: annotated-types>=0.6.0 in /home/dswdfb/.local/lib/python3.11/site-packages (from pydantic>=1.9->chromadb) (0.7.0)\n",
      "Requirement already satisfied: pydantic-core==2.27.2 in /home/dswdfb/.local/lib/python3.11/site-packages (from pydantic>=1.9->chromadb) (2.27.2)\n",
      "Requirement already satisfied: markdown-it-py>=2.2.0 in /home/dswdfb/.local/lib/python3.11/site-packages (from rich>=10.11.0->chromadb) (3.0.0)\n",
      "Requirement already satisfied: pygments<3.0.0,>=2.13.0 in /cluster/software/conda-envs-global/jupyter/envs/jupytern_706/lib/python3.11/site-packages (from rich>=10.11.0->chromadb) (2.15.1)\n",
      "Requirement already satisfied: huggingface-hub<2.0,>=0.16.4 in /home/dswdfb/.local/lib/python3.11/site-packages (from tokenizers>=0.13.2->chromadb) (0.35.1)\n",
      "Requirement already satisfied: click>=8.0.0 in /home/dswdfb/.local/lib/python3.11/site-packages (from typer>=0.9.0->chromadb) (8.1.8)\n",
      "Requirement already satisfied: shellingham>=1.3.0 in /home/dswdfb/.local/lib/python3.11/site-packages (from typer>=0.9.0->chromadb) (1.5.4)\n",
      "Requirement already satisfied: httptools>=0.6.3 in /home/dswdfb/.local/lib/python3.11/site-packages (from uvicorn[standard]>=0.18.3->chromadb) (0.6.4)\n",
      "Requirement already satisfied: python-dotenv>=0.13 in /home/dswdfb/.local/lib/python3.11/site-packages (from uvicorn[standard]>=0.18.3->chromadb) (1.0.1)\n",
      "Requirement already satisfied: uvloop!=0.15.0,!=0.15.1,>=0.14.0 in /home/dswdfb/.local/lib/python3.11/site-packages (from uvicorn[standard]>=0.18.3->chromadb) (0.21.0)\n",
      "Requirement already satisfied: watchfiles>=0.13 in /home/dswdfb/.local/lib/python3.11/site-packages (from uvicorn[standard]>=0.18.3->chromadb) (1.0.4)\n",
      "Requirement already satisfied: websockets>=10.4 in /home/dswdfb/.local/lib/python3.11/site-packages (from uvicorn[standard]>=0.18.3->chromadb) (14.2)\n",
      "Requirement already satisfied: wrapt<2,>=1.10 in /home/dswdfb/.local/lib/python3.11/site-packages (from deprecated>=1.2.6->opentelemetry-api>=1.2.0->chromadb) (1.17.2)\n",
      "Requirement already satisfied: cachetools<6.0,>=2.0.0 in /home/dswdfb/.local/lib/python3.11/site-packages (from google-auth>=1.0.1->kubernetes>=28.1.0->chromadb) (5.5.1)\n",
      "Requirement already satisfied: pyasn1-modules>=0.2.1 in /home/dswdfb/.local/lib/python3.11/site-packages (from google-auth>=1.0.1->kubernetes>=28.1.0->chromadb) (0.4.1)\n",
      "Requirement already satisfied: rsa<5,>=3.1.4 in /home/dswdfb/.local/lib/python3.11/site-packages (from google-auth>=1.0.1->kubernetes>=28.1.0->chromadb) (4.9)\n",
      "Requirement already satisfied: filelock in /home/dswdfb/.local/lib/python3.11/site-packages (from huggingface-hub<2.0,>=0.16.4->tokenizers>=0.13.2->chromadb) (3.19.1)\n",
      "Requirement already satisfied: fsspec>=2023.5.0 in /home/dswdfb/.local/lib/python3.11/site-packages (from huggingface-hub<2.0,>=0.16.4->tokenizers>=0.13.2->chromadb) (2024.12.0)\n",
      "Requirement already satisfied: hf-xet<2.0.0,>=1.1.3 in /home/dswdfb/.local/lib/python3.11/site-packages (from huggingface-hub<2.0,>=0.16.4->tokenizers>=0.13.2->chromadb) (1.1.10)\n",
      "Requirement already satisfied: zipp>=3.20 in /home/dswdfb/.local/lib/python3.11/site-packages (from importlib-metadata<=8.5.0,>=6.0->opentelemetry-api>=1.2.0->chromadb) (3.21.0)\n",
      "Requirement already satisfied: mdurl~=0.1 in /home/dswdfb/.local/lib/python3.11/site-packages (from markdown-it-py>=2.2.0->rich>=10.11.0->chromadb) (0.1.2)\n",
      "Requirement already satisfied: charset-normalizer<4,>=2 in /cluster/software/conda-envs-global/jupyter/envs/jupytern_706/lib/python3.11/site-packages (from requests->kubernetes>=28.1.0->chromadb) (2.0.4)\n",
      "Requirement already satisfied: sniffio>=1.1 in /cluster/software/conda-envs-global/jupyter/envs/jupytern_706/lib/python3.11/site-packages (from anyio->httpx>=0.27.0->chromadb) (1.2.0)\n",
      "Requirement already satisfied: humanfriendly>=9.1 in /home/dswdfb/.local/lib/python3.11/site-packages (from coloredlogs->onnxruntime>=1.14.1->chromadb) (10.0)\n",
      "Requirement already satisfied: mpmath<1.4,>=1.1.0 in /home/dswdfb/.local/lib/python3.11/site-packages (from sympy->onnxruntime>=1.14.1->chromadb) (1.3.0)\n",
      "Requirement already satisfied: pyasn1<0.7.0,>=0.4.6 in /home/dswdfb/.local/lib/python3.11/site-packages (from pyasn1-modules>=0.2.1->google-auth>=1.0.1->kubernetes>=28.1.0->chromadb) (0.6.1)\n",
      "Note: you may need to restart the kernel to use updated packages.\n"
     ]
    }
   ],
   "source": [
    "pip install chromadb"
   ]
  },
  {
   "cell_type": "code",
   "execution_count": 22,
   "id": "8a6c0cf7-a3b4-4380-9b49-5fb62c82ed96",
   "metadata": {},
   "outputs": [],
   "source": [
    "# !pip install \"opentelemetry-api<1.37\" \"opentelemetry-sdk<1.37\" \\\n",
    "#             \"opentelemetry-exporter-otlp-proto-grpc<1.37\" --force-reinstall\n"
   ]
  },
  {
   "cell_type": "markdown",
   "id": "118b485a",
   "metadata": {},
   "source": [
    "# This notebook contains Step 2 : Answer Generation and  Step 3 Assertions part of the pipeline"
   ]
  },
  {
   "cell_type": "code",
   "execution_count": 1,
   "id": "a6816395-caef-48a4-b11c-83a509b533ad",
   "metadata": {},
   "outputs": [
    {
     "name": "stderr",
     "output_type": "stream",
     "text": [
      "2025-09-27 15:56:21.381782: I tensorflow/core/util/port.cc:153] oneDNN custom operations are on. You may see slightly different numerical results due to floating-point round-off errors from different computation orders. To turn them off, set the environment variable `TF_ENABLE_ONEDNN_OPTS=0`.\n",
      "2025-09-27 15:56:21.397377: E external/local_xla/xla/stream_executor/cuda/cuda_fft.cc:477] Unable to register cuFFT factory: Attempting to register factory for plugin cuFFT when one has already been registered\n",
      "WARNING: All log messages before absl::InitializeLog() is called are written to STDERR\n",
      "E0000 00:00:1759006581.413054  868651 cuda_dnn.cc:8310] Unable to register cuDNN factory: Attempting to register factory for plugin cuDNN when one has already been registered\n",
      "E0000 00:00:1759006581.418297  868651 cuda_blas.cc:1418] Unable to register cuBLAS factory: Attempting to register factory for plugin cuBLAS when one has already been registered\n",
      "2025-09-27 15:56:21.437506: I tensorflow/core/platform/cpu_feature_guard.cc:210] This TensorFlow binary is optimized to use available CPU instructions in performance-critical operations.\n",
      "To enable the following instructions: AVX2 AVX512F AVX512_VNNI FMA, in other operations, rebuild TensorFlow with the appropriate compiler flags.\n"
     ]
    }
   ],
   "source": [
    "import json\n",
    "import os\n",
    "import numpy as np\n",
    "import pandas as pd\n",
    "import json\n",
    "import re\n",
    "import pandas as pd\n",
    "from tqdm import tqdm  \n",
    "from sentence_transformers import CrossEncoder\n",
    "from transformers import pipeline"
   ]
  },
  {
   "cell_type": "code",
   "execution_count": 2,
   "id": "ee791dc3",
   "metadata": {
    "vscode": {
     "languageId": "plaintext"
    }
   },
   "outputs": [],
   "source": [
    "import torch\n",
    "from transformers import AutoTokenizer, AutoModelForQuestionAnswering\n",
    "import os\n",
    "from langchain_huggingface import HuggingFaceEmbeddings\n",
    "import chromadb\n",
    "from chromadb.utils.embedding_functions import SentenceTransformerEmbeddingFunction\n",
    "import warnings\n",
    "from transformers.utils import logging as hf_logging\n",
    "import torch\n",
    "import torch.nn.functional as F\n",
    "from transformers import AutoTokenizer, AutoModelForQuestionAnswering\n",
    "from sentence_transformers import SentenceTransformer, util\n",
    "import pandas as pd"
   ]
  },
  {
   "cell_type": "code",
   "execution_count": 3,
   "id": "45234950-067b-486c-8a05-bdab5d015860",
   "metadata": {},
   "outputs": [],
   "source": [
    "import warnings\n",
    "\n",
    "os.environ[\"TOKENIZERS_PARALLELISM\"] = \"false\"\n"
   ]
  },
  {
   "cell_type": "code",
   "execution_count": 4,
   "id": "38fbdcec-68f7-4254-8961-0d296081aecf",
   "metadata": {},
   "outputs": [],
   "source": [
    "hf_logging.set_verbosity_error()\n",
    "warnings.filterwarnings(\"ignore\", category=FutureWarning)"
   ]
  },
  {
   "cell_type": "markdown",
   "id": "09e61c74",
   "metadata": {},
   "source": [
    "### Fetch data from the ChromaDb Store"
   ]
  },
  {
   "cell_type": "code",
   "execution_count": 24,
   "id": "410e8788-2203-48ee-8ac5-0625a79fa0a6",
   "metadata": {},
   "outputs": [],
   "source": [
    "#Initializing cross encoder\n",
    "\n",
    "cross_encoder = CrossEncoder(\"cross-encoder/ms-marco-MiniLM-L-6-v2\")"
   ]
  },
  {
   "cell_type": "code",
   "execution_count": 27,
   "id": "9d4f2684-3bb0-4cfe-8e6d-bd29951fa18d",
   "metadata": {},
   "outputs": [],
   "source": [
    "def cosine_similarity(prediction, ground_truth, embedder):\n",
    "    emb_pred = embedder.encode(prediction, convert_to_tensor=True)\n",
    "    emb_gt   = embedder.encode(ground_truth, convert_to_tensor=True)\n",
    "    return util.cos_sim(emb_pred, emb_gt).item() "
   ]
  },
  {
   "cell_type": "code",
   "execution_count": 28,
   "id": "257e250f-13f3-4480-bc4d-955b3caa930d",
   "metadata": {},
   "outputs": [],
   "source": [
    "def retrieve_chunks(chroma_collection, question, id=None, k=10):\n",
    "    where_clause = {\"question_id\": str(id)} if id else None\n",
    "\n",
    "    result = chroma_collection.query(\n",
    "        query_texts=[question],\n",
    "        n_results=k,\n",
    "        where=where_clause\n",
    "    )\n",
    "\n",
    "    pairs = [(question, doc) for doc in result[\"documents\"][0]]\n",
    "    scores = cross_encoder.predict(pairs)\n",
    "    \n",
    "    # sort by score descending\n",
    "    reranked = [doc for _, doc in sorted(zip(scores, result[\"documents\"][0]), key=lambda x: x[0], reverse=True)]\n",
    "    final_chunks = reranked[:3]\n",
    "\n",
    "    context_text = \" \".join(final_chunks)\n",
    "\n",
    "    \n",
    "    context_text = \" \".join(result[\"documents\"][0])  # combine list of strings into one\n",
    "    clean_chunk = re.sub(r\"\\$.*?\\$\", \"\", context_text)  \n",
    " \n",
    "    # Return list of text chunks\n",
    "    return clean_chunk\n"
   ]
  },
  {
   "cell_type": "code",
   "execution_count": 33,
   "id": "d79b22f9-6594-4b6d-b2d6-bd242cc9b358",
   "metadata": {},
   "outputs": [],
   "source": [
    "def qa_with_confidence(qa_model, qa_tokenizer, question, context):\n",
    "    inputs = qa_tokenizer(\n",
    "        question,\n",
    "        context,\n",
    "        return_tensors=\"pt\",\n",
    "        max_length=512,\n",
    "        truncation=True\n",
    "    )\n",
    "    with torch.no_grad():\n",
    "        outputs = qa_model(**inputs)\n",
    "\n",
    "    start_idx = outputs.start_logits.argmax()\n",
    "    end_idx   = outputs.end_logits.argmax()\n",
    "\n",
    "    answer_tokens = inputs.input_ids[0, start_idx:end_idx+1]\n",
    "    decoded_answer = qa_tokenizer.decode(answer_tokens, skip_special_tokens=True)\n",
    "\n",
    "    start_probs = F.softmax(outputs.start_logits, dim=-1)\n",
    "    end_probs   = F.softmax(outputs.end_logits, dim=-1)\n",
    "    confidence  = (start_probs[0, start_idx] * end_probs[0, end_idx]).item()\n",
    "\n",
    "    return decoded_answer, confidence\n"
   ]
  },
  {
   "cell_type": "code",
   "execution_count": 34,
   "id": "7577ffd9-fb32-4ff9-ac7d-f35284163871",
   "metadata": {},
   "outputs": [],
   "source": [
    "def run_answer_extraction_and_evaluation(qa_model, qa_tokenizer, chroma_collection, questions, embedder):\n",
    "    results = []\n",
    "    for _, row in tqdm(questions.iterrows()):\n",
    "        chunks = retrieve_chunks(chroma_collection, row.question, row.id)\n",
    "        \n",
    "        if not chunks or chunks.strip() == \"\":\n",
    "            print(f\"Skipping {row.id} (no context retrieved)\")\n",
    "            continue\n",
    "\n",
    "        #Evaluation\n",
    "        pred, conf = qa_with_confidence(qa_model, qa_tokenizer, row.question, chunks)\n",
    "        cos        = cosine_similarity(pred, str(row.answer), embedder)\n",
    "        \n",
    "        results.append({\n",
    "            \"question_id\": row.id,\n",
    "            \"question\" : row.question,\n",
    "            \"model_answer\": pred,\n",
    "            \"ground_truth\": str(row.answer),\n",
    "            \"confidence\": conf,\n",
    "            \"cosine_sim\": cos\n",
    "        })\n",
    "    \n",
    "    return pd.DataFrame(results)"
   ]
  },
  {
   "cell_type": "code",
   "execution_count": 37,
   "id": "103ded9a-5bf8-4bad-b9cb-277867861167",
   "metadata": {},
   "outputs": [],
   "source": [
    "def run_pipeline(db_path: str, base_configs: dict, embedding_models: list, generation_models: list):\n",
    "    client = chromadb.PersistentClient(path=db_path)\n",
    "\n",
    "    for ds_name, ds_info in base_configs.items():\n",
    "        for emb_model in embedding_models:\n",
    "            for gen_model in generation_models:\n",
    "\n",
    "                collection_name = f\"{ds_info['collection']}_{emb_model}\"\n",
    "\n",
    "                print(f\"  Running pipeline for {ds_name}\")\n",
    "                print(f\"   Embedding Model : {emb_model}\")\n",
    "                print(f\"   Generation Model: {gen_model}\")\n",
    "                print(f\"   Collection Name : {collection_name}\")\n",
    "\n",
    "                # Connect to the collection with the correct embedding function\n",
    "                embedding_fn = SentenceTransformerEmbeddingFunction(model_name=emb_model)\n",
    "                chroma_collection = client.get_collection(\n",
    "                    name=collection_name,\n",
    "                    embedding_function=embedding_fn\n",
    "                )\n",
    "\n",
    "                # Load questions\n",
    "                questions_df = pd.read_csv(ds_info[\"questions\"])\n",
    "\n",
    "                # Load QA model\n",
    "                qa_tokenizer = AutoTokenizer.from_pretrained(gen_model)\n",
    "                qa_model     = AutoModelForQuestionAnswering.from_pretrained(gen_model)\n",
    "\n",
    "                embedder = SentenceTransformer(emb_model) \n",
    "\n",
    "                # Run QA + evaluation \n",
    "                scores_df = run_answer_extraction_and_evaluation(\n",
    "                    qa_model, qa_tokenizer, chroma_collection, questions_df, embedder\n",
    "                )\n",
    "\n",
    "                safe_emb = emb_model.replace(\"/\", \"-\")      # e.g. all-MiniLM-L6-v2\n",
    "                safe_gen = gen_model.replace(\"/\", \"-\")      # e.g. deepset-roberta-base-squad2\n",
    "                file_name = f\"scores_{ds_name}_{safe_emb}_{safe_gen}.csv\"\n",
    "                \n",
    "                # Save results\n",
    "                scores_df.to_csv(file_name, index=False)\n",
    "                print(f\"   Saved results to: {file_name}\")\n",
    "\n",
    "                print(f\"   Average Confidence : {scores_df['confidence'].mean():.4f}\")\n",
    "                print(f\"   Average Cosine Sim : {scores_df['cosine_sim'].mean():.4f}\")\n"
   ]
  },
  {
   "cell_type": "code",
   "execution_count": null,
   "id": "a7f3ec3c-25da-4544-bd94-938a83a4d7cf",
   "metadata": {},
   "outputs": [
    {
     "name": "stdout",
     "output_type": "stream",
     "text": [
      "  Running pipeline for HotpotQA\n",
      "   Embedding Model : all-MiniLM-L6-v2\n",
      "   Generation Model: deepset/tinyroberta-squad2\n",
      "   Collection Name : hpqa_data_collection_all-MiniLM-L6-v2\n"
     ]
    },
    {
     "name": "stderr",
     "output_type": "stream",
     "text": [
      "7405it [17:38,  6.99it/s]\n"
     ]
    },
    {
     "name": "stdout",
     "output_type": "stream",
     "text": [
      "   Saved results to: scores_HotpotQA_all-MiniLM-L6-v2_deepset-tinyroberta-squad2.csv\n",
      "   Average Confidence : 0.7682\n",
      "   Average Cosine Sim : 0.2997\n",
      "  Running pipeline for HotpotQA\n",
      "   Embedding Model : all-MiniLM-L6-v2\n",
      "   Generation Model: deepset/roberta-base-squad2\n",
      "   Collection Name : hpqa_data_collection_all-MiniLM-L6-v2\n"
     ]
    },
    {
     "name": "stderr",
     "output_type": "stream",
     "text": [
      "3589it [12:42,  4.93it/s]"
     ]
    }
   ],
   "source": [
    "# All embedding models \n",
    "EMBEDDING_MODELS = [\n",
    "    \"all-MiniLM-L6-v2\",\n",
    "    \"all-mpnet-base-v2\",\n",
    "    \"all-MiniLM-L12-v2\"\n",
    "]\n",
    "\n",
    "# All generation (QA) models\n",
    "GENERATION_MODELS = [\n",
    "    \"deepset/tinyroberta-squad2\",\n",
    "    \"deepset/roberta-base-squad2\",\n",
    "    \"google-bert/bert-large-uncased-whole-word-masking-finetuned-squad\"\n",
    "]\n",
    "\n",
    "BASE_CONFIGS = {\n",
    "    \"HotpotQA\": {\n",
    "        \"collection\": \"hpqa_data_collection\",  \n",
    "        \"questions\": \"processed_hotpot_df.csv\"\n",
    "    },\n",
    "    \"Qasper\": {\n",
    "        \"collection\": \"qasper_data_collection\",\n",
    "        \"questions\": \"processed_qasper_data.csv\"\n",
    "    }\n",
    "}\n",
    "\n",
    "DATASET_PATH = \"./ChromaDb\"\n",
    "run_pipeline(DATASET_PATH, BASE_CONFIGS, EMBEDDING_MODELS, GENERATION_MODELS)\n"
   ]
  },
  {
   "cell_type": "code",
   "execution_count": null,
   "id": "aeef1ec0-44c3-4bb2-b965-41dacc32a8c3",
   "metadata": {},
   "outputs": [],
   "source": []
  }
 ],
 "metadata": {
  "kernelspec": {
   "display_name": "Python 3 (ipykernel)",
   "language": "python",
   "name": "python3"
  },
  "language_info": {
   "codemirror_mode": {
    "name": "ipython",
    "version": 3
   },
   "file_extension": ".py",
   "mimetype": "text/x-python",
   "name": "python",
   "nbconvert_exporter": "python",
   "pygments_lexer": "ipython3",
   "version": "3.11.5"
  }
 },
 "nbformat": 4,
 "nbformat_minor": 5
}
