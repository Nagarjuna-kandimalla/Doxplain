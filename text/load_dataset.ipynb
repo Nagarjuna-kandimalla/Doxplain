{
 "cells": [
  {
   "cell_type": "code",
   "execution_count": null,
   "id": "9314b3dd",
   "metadata": {
    "vscode": {
     "languageId": "plaintext"
    }
   },
   "outputs": [],
   "source": [
    "import kagglehub\n",
    "import json\n",
    "import os"
   ]
  },
  {
   "cell_type": "code",
   "execution_count": null,
   "id": "936438c9",
   "metadata": {
    "vscode": {
     "languageId": "plaintext"
    }
   },
   "outputs": [],
   "source": [
    "# Download QASPER dataset using KaggleHub\n",
    "dataset_path = kagglehub.dataset_download(\"thedevastator/qasper-nlp-questions-and-evidence\")"
   ]
  },
  {
   "cell_type": "code",
   "execution_count": null,
   "id": "7d212515",
   "metadata": {
    "vscode": {
     "languageId": "plaintext"
    }
   },
   "outputs": [],
   "source": [
    "print(f\"Path to QASPER dataset: {dataset_path}\")"
   ]
  },
  {
   "cell_type": "code",
   "execution_count": null,
   "id": "ddcc737f",
   "metadata": {
    "vscode": {
     "languageId": "plaintext"
    }
   },
   "outputs": [],
   "source": [
    "# Download HotpotQA dataset using KaggleHub\n",
    "path = kagglehub.dataset_download(\"jeromeblanchet/hotpotqa-question-answering-dataset\")"
   ]
  },
  {
   "cell_type": "code",
   "execution_count": null,
   "id": "5318fb29",
   "metadata": {
    "vscode": {
     "languageId": "plaintext"
    }
   },
   "outputs": [],
   "source": [
    "print(f\"Path to HotpotQA dataset: {path}\")"
   ]
  }
 ],
 "metadata": {
  "language_info": {
   "name": "python"
  }
 },
 "nbformat": 4,
 "nbformat_minor": 5
}
